{
 "cells": [
  {
   "cell_type": "code",
   "execution_count": 1,
   "metadata": {},
   "outputs": [
    {
     "ename": "SyntaxError",
     "evalue": "invalid syntax (<ipython-input-1-be6e0898f2d0>, line 8)",
     "output_type": "error",
     "traceback": [
      "\u001b[0;36m  File \u001b[0;32m\"<ipython-input-1-be6e0898f2d0>\"\u001b[0;36m, line \u001b[0;32m8\u001b[0m\n\u001b[0;31m    __Estimators are empty machine learning models, after choosing hyperparameters and train them they are trained\u001b[0m\n\u001b[0m                   ^\u001b[0m\n\u001b[0;31mSyntaxError\u001b[0m\u001b[0;31m:\u001b[0m invalid syntax\n"
     ]
    }
   ],
   "source": [
    "import matplotlib.pyplot as plt\n",
    "import numpy as np\n",
    "rng = np.random.RandomState(42)\n",
    "x = 10 * rng.rand(50)\n",
    "y = 2 * x - 1 + rng.randn(50)\n",
    "plt.scatter(x, y);\n",
    "\n",
    "__Estimators are empty machine learning models, after choosing hyperparameters and train them they are trained\n",
    "ML models , ready to be tested against Test data set , after testing we check accuracy of the model.\n",
    "After satisfactory result the model is ready to be deployed using Pickel and flask or Kubernates.__\n",
    "\n",
    "#Choose machine learning model to be applied on featurematrix(feature columns) and target array(predicted value)\n",
    "from sklearn.linear_model import LinearRegression\n",
    "\n",
    "#set hyperparameter of model according to your desired modeling\n",
    "model = LinearRegression(fit_intercept=True)\n",
    "model\n",
    "\n",
    "X = x[:, np.newaxis]\n",
    "X.shape\n",
    "\n",
    "model.fit(X,y)\n",
    "\n",
    "model.coef_\n",
    "\n",
    "model.intercept_\n",
    "\n",
    "#Generate new Feature matrix from -1 to 11 (x coordinate at similar interval)\n",
    "xfit = np.linspace(-1, 11, dtype=\"float64\")\n",
    "Xfit = xfit[:,np.newaxis]\n",
    "yfit = model.predict(Xfit)\n",
    "\n",
    "plt.scatter(x, y)\n",
    "plt.plot(xfit, yfit);\n",
    "\n",
    "xfit\n",
    "\n",
    "from sklearn.cross_validation import train_test_split\n",
    "Xtrain, Xtest, ytrain, ytest = train_test_split(X_iris, Y_iris,random_state=1)\n",
    "\n",
    "from sklearn.naive_bayes import GaussianNB # 1. choose model class\n",
    "model = GaussianNB()                       # 2. instantiate model\n",
    "model.fit(Xtrain, ytrain)                  # 3. fit model to data\n",
    "y_model = model.predict(Xtest)             # 4. predict on new data\n",
    "\n",
    "from sklearn.metrics import accuracy_score\n",
    "\n",
    "accuracy_score(ytest, y_model)"
   ]
  }
 ],
 "metadata": {
  "kernelspec": {
   "display_name": "Python 3",
   "language": "python",
   "name": "python3"
  },
  "language_info": {
   "codemirror_mode": {
    "name": "ipython",
    "version": 3
   },
   "file_extension": ".py",
   "mimetype": "text/x-python",
   "name": "python",
   "nbconvert_exporter": "python",
   "pygments_lexer": "ipython3",
   "version": "3.6.5"
  }
 },
 "nbformat": 4,
 "nbformat_minor": 2
}
